{
 "cells": [
  {
   "cell_type": "markdown",
   "metadata": {},
   "source": [
    "# Heart Failure Readmission"
   ]
  },
  {
   "cell_type": "code",
   "execution_count": 2,
   "metadata": {},
   "outputs": [
    {
     "name": "stdout",
     "output_type": "stream",
     "text": [
      "2.1.0\n"
     ]
    },
    {
     "data": {
      "text/plain": [
       "[PhysicalDevice(name='/physical_device:GPU:0', device_type='GPU')]"
      ]
     },
     "execution_count": 2,
     "metadata": {},
     "output_type": "execute_result"
    }
   ],
   "source": [
    "import tensorflow as tf\n",
    "print(tf.__version__)\n",
    "tf.config.experimental.list_physical_devices('GPU')"
   ]
  },
  {
   "cell_type": "markdown",
   "metadata": {},
   "source": [
    "## Data Preparation"
   ]
  },
  {
   "cell_type": "code",
   "execution_count": 16,
   "metadata": {},
   "outputs": [],
   "source": [
    "import numpy as np\n",
    "# Age (numeric), Diabetes (yes /no), Hypertension (yes/no), Hgba1c (numeric), Left vent ejection fraction (numerc)\n",
    "fake_data_x = np.array([\n",
    "    [77,1,1,10,25],\n",
    "    [55,0,0,5,65],\n",
    "    [56,1,1,7,45],\n",
    "    [65,1,1,5.5,35],\n",
    "    [56,0,1,6,55],\n",
    "    [81,1,1,7,45]\n",
    "])\n",
    "\n",
    "# readmitted yes/no\n",
    "fake_data_y = np.array([\n",
    "    [1],\n",
    "    [0],\n",
    "    [1],\n",
    "    [0],\n",
    "    [0],\n",
    "    [1]\n",
    "])"
   ]
  },
  {
   "cell_type": "code",
   "execution_count": 17,
   "metadata": {},
   "outputs": [
    {
     "name": "stdout",
     "output_type": "stream",
     "text": [
      "(6, 5)\n",
      "(6, 1)\n"
     ]
    }
   ],
   "source": [
    "print(fake_data_x.shape)\n",
    "print(fake_data_y.shape)"
   ]
  },
  {
   "cell_type": "markdown",
   "metadata": {},
   "source": [
    "## Data Preproccessing"
   ]
  },
  {
   "cell_type": "code",
   "execution_count": 18,
   "metadata": {},
   "outputs": [
    {
     "name": "stdout",
     "output_type": "stream",
     "text": [
      "[[77.   1.   1.  10.  25. ]\n",
      " [55.   0.   0.   5.  65. ]\n",
      " [56.   1.   1.   7.  45. ]\n",
      " [65.   1.   1.   5.5 35. ]\n",
      " [56.   0.   1.   6.  55. ]\n",
      " [81.   1.   1.   7.  45. ]]\n",
      "\n",
      "[[0.77777778 1.         1.         0.66666667 0.33333333]\n",
      " [0.55555556 0.         0.         0.33333333 0.86666667]\n",
      " [0.56565657 1.         1.         0.46666667 0.6       ]\n",
      " [0.65656566 1.         1.         0.36666667 0.46666667]\n",
      " [0.56565657 0.         1.         0.4        0.73333333]\n",
      " [0.81818182 1.         1.         0.46666667 0.6       ]]\n"
     ]
    }
   ],
   "source": [
    "# Normalization\n",
    "print(fake_data_x)\n",
    "for data in fake_data_x:\n",
    "    data /= np.array([99.0,1.0,1.0,15.0,75])\n",
    "print(\"\")\n",
    "print(fake_data_x)"
   ]
  },
  {
   "cell_type": "markdown",
   "metadata": {},
   "source": [
    "## Create Neural Network"
   ]
  },
  {
   "cell_type": "code",
   "execution_count": 21,
   "metadata": {},
   "outputs": [
    {
     "name": "stdout",
     "output_type": "stream",
     "text": [
      "Model: \"sequential\"\n",
      "_________________________________________________________________\n",
      "Layer (type)                 Output Shape              Param #   \n",
      "=================================================================\n",
      "dense (Dense)                (None, 10)                60        \n",
      "_________________________________________________________________\n",
      "dense_1 (Dense)              (None, 1)                 11        \n",
      "=================================================================\n",
      "Total params: 71\n",
      "Trainable params: 71\n",
      "Non-trainable params: 0\n",
      "_________________________________________________________________\n"
     ]
    }
   ],
   "source": [
    "model = tf.keras.models.Sequential([\n",
    "    tf.keras.Input((5)),\n",
    "    tf.keras.layers.Dense(10, activation='relu'),\n",
    "    tf.keras.layers.Dense(1, activation='linear')\n",
    "])\n",
    "\n",
    "model.summary()"
   ]
  },
  {
   "cell_type": "code",
   "execution_count": 22,
   "metadata": {},
   "outputs": [],
   "source": [
    "model.compile(optimizer='adam', loss=\"binary_crossentropy\")"
   ]
  },
  {
   "cell_type": "markdown",
   "metadata": {},
   "source": [
    "## Train the model on our data"
   ]
  },
  {
   "cell_type": "code",
   "execution_count": 38,
   "metadata": {
    "scrolled": true
   },
   "outputs": [
    {
     "name": "stdout",
     "output_type": "stream",
     "text": [
      "Train on 6 samples\n",
      "Epoch 1/100\n",
      "6/6 [==============================] - 0s 743us/sample - loss: 0.8958\n",
      "Epoch 2/100\n",
      "6/6 [==============================] - 0s 279us/sample - loss: 0.8867\n",
      "Epoch 3/100\n",
      "6/6 [==============================] - 0s 284us/sample - loss: 0.8783\n",
      "Epoch 4/100\n",
      "6/6 [==============================] - 0s 304us/sample - loss: 0.8705\n",
      "Epoch 5/100\n",
      "6/6 [==============================] - 0s 322us/sample - loss: 0.8632\n",
      "Epoch 6/100\n",
      "6/6 [==============================] - 0s 241us/sample - loss: 0.8564\n",
      "Epoch 7/100\n",
      "6/6 [==============================] - 0s 249us/sample - loss: 0.8500\n",
      "Epoch 8/100\n",
      "6/6 [==============================] - 0s 223us/sample - loss: 0.8440\n",
      "Epoch 9/100\n",
      "6/6 [==============================] - 0s 197us/sample - loss: 0.8383\n",
      "Epoch 10/100\n",
      "6/6 [==============================] - 0s 299us/sample - loss: 0.8329\n",
      "Epoch 11/100\n",
      "6/6 [==============================] - 0s 216us/sample - loss: 0.8278\n",
      "Epoch 12/100\n",
      "6/6 [==============================] - 0s 210us/sample - loss: 0.8229\n",
      "Epoch 13/100\n",
      "6/6 [==============================] - 0s 200us/sample - loss: 0.8183\n",
      "Epoch 14/100\n",
      "6/6 [==============================] - 0s 349us/sample - loss: 0.8139\n",
      "Epoch 15/100\n",
      "6/6 [==============================] - 0s 218us/sample - loss: 0.8096\n",
      "Epoch 16/100\n",
      "6/6 [==============================] - 0s 220us/sample - loss: 0.8056\n",
      "Epoch 17/100\n",
      "6/6 [==============================] - 0s 205us/sample - loss: 0.8017\n",
      "Epoch 18/100\n",
      "6/6 [==============================] - 0s 193us/sample - loss: 0.7979\n",
      "Epoch 19/100\n",
      "6/6 [==============================] - 0s 193us/sample - loss: 0.7943\n",
      "Epoch 20/100\n",
      "6/6 [==============================] - 0s 187us/sample - loss: 0.7908\n",
      "Epoch 21/100\n",
      "6/6 [==============================] - 0s 184us/sample - loss: 0.7874\n",
      "Epoch 22/100\n",
      "6/6 [==============================] - 0s 196us/sample - loss: 0.7841\n",
      "Epoch 23/100\n",
      "6/6 [==============================] - 0s 223us/sample - loss: 0.7809\n",
      "Epoch 24/100\n",
      "6/6 [==============================] - 0s 317us/sample - loss: 0.7778\n",
      "Epoch 25/100\n",
      "6/6 [==============================] - 0s 310us/sample - loss: 0.7748\n",
      "Epoch 26/100\n",
      "6/6 [==============================] - 0s 206us/sample - loss: 0.7719\n",
      "Epoch 27/100\n",
      "6/6 [==============================] - 0s 323us/sample - loss: 0.7690\n",
      "Epoch 28/100\n",
      "6/6 [==============================] - 0s 214us/sample - loss: 0.7662\n",
      "Epoch 29/100\n",
      "6/6 [==============================] - 0s 209us/sample - loss: 0.7635\n",
      "Epoch 30/100\n",
      "6/6 [==============================] - 0s 221us/sample - loss: 0.7608\n",
      "Epoch 31/100\n",
      "6/6 [==============================] - 0s 393us/sample - loss: 0.7582\n",
      "Epoch 32/100\n",
      "6/6 [==============================] - 0s 336us/sample - loss: 0.7556\n",
      "Epoch 33/100\n",
      "6/6 [==============================] - 0s 198us/sample - loss: 0.7531\n",
      "Epoch 34/100\n",
      "6/6 [==============================] - 0s 212us/sample - loss: 0.7506\n",
      "Epoch 35/100\n",
      "6/6 [==============================] - 0s 310us/sample - loss: 0.7481\n",
      "Epoch 36/100\n",
      "6/6 [==============================] - 0s 257us/sample - loss: 0.7457\n",
      "Epoch 37/100\n",
      "6/6 [==============================] - 0s 269us/sample - loss: 0.7434\n",
      "Epoch 38/100\n",
      "6/6 [==============================] - 0s 286us/sample - loss: 0.7411\n",
      "Epoch 39/100\n",
      "6/6 [==============================] - 0s 251us/sample - loss: 0.7388\n",
      "Epoch 40/100\n",
      "6/6 [==============================] - 0s 323us/sample - loss: 0.7365\n",
      "Epoch 41/100\n",
      "6/6 [==============================] - 0s 206us/sample - loss: 0.7343\n",
      "Epoch 42/100\n",
      "6/6 [==============================] - 0s 190us/sample - loss: 0.7321\n",
      "Epoch 43/100\n",
      "6/6 [==============================] - 0s 243us/sample - loss: 0.7299\n",
      "Epoch 44/100\n",
      "6/6 [==============================] - 0s 191us/sample - loss: 0.7278\n",
      "Epoch 45/100\n",
      "6/6 [==============================] - 0s 185us/sample - loss: 0.7257\n",
      "Epoch 46/100\n",
      "6/6 [==============================] - 0s 202us/sample - loss: 0.7236\n",
      "Epoch 47/100\n",
      "6/6 [==============================] - 0s 214us/sample - loss: 0.7215\n",
      "Epoch 48/100\n",
      "6/6 [==============================] - 0s 196us/sample - loss: 0.7195\n",
      "Epoch 49/100\n",
      "6/6 [==============================] - 0s 571us/sample - loss: 0.7174\n",
      "Epoch 50/100\n",
      "6/6 [==============================] - 0s 218us/sample - loss: 0.7154\n",
      "Epoch 51/100\n",
      "6/6 [==============================] - 0s 205us/sample - loss: 0.7135\n",
      "Epoch 52/100\n",
      "6/6 [==============================] - 0s 203us/sample - loss: 0.7115\n",
      "Epoch 53/100\n",
      "6/6 [==============================] - 0s 190us/sample - loss: 0.7096\n",
      "Epoch 54/100\n",
      "6/6 [==============================] - 0s 185us/sample - loss: 0.7077\n",
      "Epoch 55/100\n",
      "6/6 [==============================] - 0s 189us/sample - loss: 0.7058\n",
      "Epoch 56/100\n",
      "6/6 [==============================] - 0s 188us/sample - loss: 0.7039\n",
      "Epoch 57/100\n",
      "6/6 [==============================] - 0s 693us/sample - loss: 0.7020\n",
      "Epoch 58/100\n",
      "6/6 [==============================] - 0s 222us/sample - loss: 0.7002\n",
      "Epoch 59/100\n",
      "6/6 [==============================] - 0s 204us/sample - loss: 0.6984\n",
      "Epoch 60/100\n",
      "6/6 [==============================] - 0s 205us/sample - loss: 0.6966\n",
      "Epoch 61/100\n",
      "6/6 [==============================] - 0s 196us/sample - loss: 0.6948\n",
      "Epoch 62/100\n",
      "6/6 [==============================] - 0s 194us/sample - loss: 0.6930\n",
      "Epoch 63/100\n",
      "6/6 [==============================] - 0s 206us/sample - loss: 0.6913\n",
      "Epoch 64/100\n",
      "6/6 [==============================] - 0s 187us/sample - loss: 0.6895\n",
      "Epoch 65/100\n",
      "6/6 [==============================] - 0s 204us/sample - loss: 0.6878\n",
      "Epoch 66/100\n",
      "6/6 [==============================] - 0s 243us/sample - loss: 0.6861\n",
      "Epoch 67/100\n",
      "6/6 [==============================] - 0s 323us/sample - loss: 0.6844\n",
      "Epoch 68/100\n",
      "6/6 [==============================] - 0s 210us/sample - loss: 0.6827\n",
      "Epoch 69/100\n",
      "6/6 [==============================] - 0s 183us/sample - loss: 0.6810\n",
      "Epoch 70/100\n",
      "6/6 [==============================] - 0s 231us/sample - loss: 0.6794\n",
      "Epoch 71/100\n",
      "6/6 [==============================] - 0s 196us/sample - loss: 0.6777\n",
      "Epoch 72/100\n",
      "6/6 [==============================] - 0s 229us/sample - loss: 0.6761\n",
      "Epoch 73/100\n",
      "6/6 [==============================] - 0s 209us/sample - loss: 0.6745\n",
      "Epoch 74/100\n",
      "6/6 [==============================] - 0s 184us/sample - loss: 0.6729\n",
      "Epoch 75/100\n",
      "6/6 [==============================] - 0s 229us/sample - loss: 0.6713\n",
      "Epoch 76/100\n",
      "6/6 [==============================] - 0s 225us/sample - loss: 0.6698\n",
      "Epoch 77/100\n",
      "6/6 [==============================] - 0s 265us/sample - loss: 0.6682\n",
      "Epoch 78/100\n",
      "6/6 [==============================] - 0s 205us/sample - loss: 0.6667\n",
      "Epoch 79/100\n",
      "6/6 [==============================] - 0s 212us/sample - loss: 0.6651\n",
      "Epoch 80/100\n",
      "6/6 [==============================] - 0s 234us/sample - loss: 0.6636\n",
      "Epoch 81/100\n",
      "6/6 [==============================] - 0s 205us/sample - loss: 0.6621\n",
      "Epoch 82/100\n",
      "6/6 [==============================] - 0s 213us/sample - loss: 0.6606\n",
      "Epoch 83/100\n",
      "6/6 [==============================] - 0s 212us/sample - loss: 0.6591\n",
      "Epoch 84/100\n",
      "6/6 [==============================] - 0s 241us/sample - loss: 0.6576\n",
      "Epoch 85/100\n",
      "6/6 [==============================] - 0s 212us/sample - loss: 0.6562\n",
      "Epoch 86/100\n",
      "6/6 [==============================] - 0s 306us/sample - loss: 0.6547\n",
      "Epoch 87/100\n",
      "6/6 [==============================] - 0s 189us/sample - loss: 0.6533\n",
      "Epoch 88/100\n",
      "6/6 [==============================] - 0s 292us/sample - loss: 0.6519\n",
      "Epoch 89/100\n",
      "6/6 [==============================] - 0s 202us/sample - loss: 0.6504\n",
      "Epoch 90/100\n",
      "6/6 [==============================] - 0s 184us/sample - loss: 0.6490\n",
      "Epoch 91/100\n",
      "6/6 [==============================] - 0s 196us/sample - loss: 0.6476\n",
      "Epoch 92/100\n",
      "6/6 [==============================] - 0s 185us/sample - loss: 0.6463\n",
      "Epoch 93/100\n",
      "6/6 [==============================] - 0s 211us/sample - loss: 0.6449\n",
      "Epoch 94/100\n",
      "6/6 [==============================] - 0s 344us/sample - loss: 0.6435\n",
      "Epoch 95/100\n",
      "6/6 [==============================] - 0s 365us/sample - loss: 0.6422\n",
      "Epoch 96/100\n",
      "6/6 [==============================] - 0s 194us/sample - loss: 0.6408\n",
      "Epoch 97/100\n",
      "6/6 [==============================] - 0s 196us/sample - loss: 0.6395\n",
      "Epoch 98/100\n",
      "6/6 [==============================] - 0s 180us/sample - loss: 0.6382\n",
      "Epoch 99/100\n",
      "6/6 [==============================] - 0s 183us/sample - loss: 0.6369\n",
      "Epoch 100/100\n",
      "6/6 [==============================] - 0s 179us/sample - loss: 0.6356\n"
     ]
    },
    {
     "data": {
      "text/plain": [
       "<tensorflow.python.keras.callbacks.History at 0x7f6f307cbfd0>"
      ]
     },
     "execution_count": 38,
     "metadata": {},
     "output_type": "execute_result"
    }
   ],
   "source": [
    "model.fit(fake_data_x, fake_data_y, epochs=100)"
   ]
  },
  {
   "cell_type": "markdown",
   "metadata": {},
   "source": [
    "## Test the model"
   ]
  },
  {
   "cell_type": "code",
   "execution_count": 39,
   "metadata": {},
   "outputs": [
    {
     "name": "stdout",
     "output_type": "stream",
     "text": [
      "[[0.6144898]]\n"
     ]
    }
   ],
   "source": [
    "test_data_x = np.array([[89,1,1,10,25]], dtype=np.float64)\n",
    "test_data_x[0] /= np.array([99.0,1.0,1.0,15.0,75])\n",
    "print(model.predict(test_data_x))"
   ]
  },
  {
   "cell_type": "code",
   "execution_count": null,
   "metadata": {},
   "outputs": [],
   "source": []
  }
 ],
 "metadata": {
  "kernelspec": {
   "display_name": "tf_gpu",
   "language": "python",
   "name": "tf_gpu"
  },
  "language_info": {
   "codemirror_mode": {
    "name": "ipython",
    "version": 3
   },
   "file_extension": ".py",
   "mimetype": "text/x-python",
   "name": "python",
   "nbconvert_exporter": "python",
   "pygments_lexer": "ipython3",
   "version": "3.7.6"
  }
 },
 "nbformat": 4,
 "nbformat_minor": 4
}
